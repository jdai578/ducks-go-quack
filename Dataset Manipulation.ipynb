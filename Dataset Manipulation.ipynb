{
 "cells": [
  {
   "cell_type": "code",
   "execution_count": 8,
   "metadata": {},
   "outputs": [],
   "source": [
    "import numpy as np\n",
    "from keras.layers import Dense, Dropout, Activation, Flatten\n",
    "from keras.layers import Convolution2D, GlobalMaxPooling2D, MaxPooling2D, Conv2D, GlobalAveragePooling2D \n",
    "from numpy import array\n",
    "from keras import optimizers\n",
    "from keras.models import Sequential, Model\n",
    "from keras.preprocessing.image import ImageDataGenerator\n",
    "from keras.utils import np_utils\n",
    "from keras.applications.resnet50 import ResNet50\n",
    "import keras.applications\n",
    "from keras.optimizers import Adam\n",
    "import matplotlib.pyplot as plt\n",
    "from os.path import isfile, join\n",
    "from os import listdir\n",
    "import os, os.path\n",
    "import shutil\n",
    "from random import shuffle\n",
    "from shutil import copyfile\n",
    "%matplotlib inline\n",
    "from keras.callbacks import ModelCheckpoint\n",
    "import cv2, time, sys\n",
    "from PIL import Image\n",
    "import numpy\n",
    "from keras.preprocessing.image import img_to_array\n",
    "from keras.preprocessing.image import load_img\n"
   ]
  },
  {
   "cell_type": "code",
   "execution_count": 9,
   "metadata": {},
   "outputs": [],
   "source": [
    "alphabet = [\"A\", \"B\", \"C\", \"D\", \"E\", \"F\", \"G\", \"H\", \"I\", \"J\", \"K\", \"L\", \"M\", \"N\", \"O\", \"P\", \"Q\", \"R\", \"S\", \"T\", \"U\", \"V\", \"W\", \"X\", \"Y\", \"Z\", \"del\", \"nothing\", \"space\"]\n",
    "valid_path = \"/home/t-judai/kaggle-link/datasets/grassknoted/asl-alphabet/asl_alphabet_valid/\"\n",
    "predict_path = \"/home/t-judai/kaggle-link/datasets/grassknoted/asl-alphabet/asl_alphabet_predict/\"\n",
    "#CREATE ALPHABET FOLDERS\n",
    "def folders(path):\n",
    "    for i in range(29):\n",
    "        new_path = os.makedirs(path + alphabet[i])"
   ]
  },
  {
   "cell_type": "code",
   "execution_count": 4,
   "metadata": {},
   "outputs": [],
   "source": [
    "def split(folder, letter):\n",
    "    valid_size = 901\n",
    "    start = 1\n",
    "    while(valid_size > 0):\n",
    "        path_from = folder + \"/\" + letter + str(start) + '.jpg'      \n",
    "        shutil.move(path_from, \"/work/kaggle-link/datasets/grassknoted/asl-alphabet/asl_alphabet_valid/\" + letter + \"/\" + letter + str(start) + \".jpg\")\n",
    "        start += 1\n",
    "        valid_size -= 1\n",
    "#MANUALLY SPLIT TRAINING DATA INTO TRAINING AND VALIDATION\n",
    "#for i in range(29):\n",
    "    #split(\"/work/kaggle-link/datasets/grassknoted/asl-alphabet/asl_alphabet_train/\" + alphabet[i], alphabet[i])"
   ]
  },
  {
   "cell_type": "code",
   "execution_count": 19,
   "metadata": {},
   "outputs": [],
   "source": [
    "path = \"/home/t-judai/kaggle-link/datasets/grassknoted/asl-alphabet/temp/\"\n",
    "dirs = os.listdir(path)\n",
    "def crop(path, dirs):\n",
    "    for item in dirs:\n",
    "        if os.path.isfile(path+item):\n",
    "            img = Image.open(path+item)\n",
    "            print (img.size)\n",
    "            area = (480, 0, 1440, 1080)\n",
    "            cropped_img = img.crop(area)\n",
    "            print (cropped_img.size)\n",
    "            cropped_img.save(path+item)\n",
    "#rop(path, dirs)"
   ]
  },
  {
   "cell_type": "code",
   "execution_count": 17,
   "metadata": {},
   "outputs": [],
   "source": []
  },
  {
   "cell_type": "code",
   "execution_count": 20,
   "metadata": {},
   "outputs": [],
   "source": [
    "\n",
    "for letter in alphabet:\n",
    "    for item in dirs:\n",
    "        if item[0]==letter[0]:\n",
    "            shutil.move(path+item, predict_path+letter+ \"/\" + item)\n",
    " "
   ]
  },
  {
   "cell_type": "code",
   "execution_count": null,
   "metadata": {},
   "outputs": [],
   "source": []
  }
 ],
 "metadata": {
  "kernelspec": {
   "display_name": "Python 3",
   "language": "python",
   "name": "python3"
  },
  "language_info": {
   "codemirror_mode": {
    "name": "ipython",
    "version": 3
   },
   "file_extension": ".py",
   "mimetype": "text/x-python",
   "name": "python",
   "nbconvert_exporter": "python",
   "pygments_lexer": "ipython3",
   "version": "3.5.2"
  }
 },
 "nbformat": 4,
 "nbformat_minor": 2
}
